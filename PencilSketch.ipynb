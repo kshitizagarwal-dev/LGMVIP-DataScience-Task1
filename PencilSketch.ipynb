{
 "cells": [
  {
   "cell_type": "markdown",
   "metadata": {},
   "source": [
    "# Data Science TASK-2"
   ]
  },
  {
   "cell_type": "markdown",
   "metadata": {},
   "source": [
    "***Author :- KSHITIZ AGARWAL***"
   ]
  },
  {
   "cell_type": "markdown",
   "metadata": {},
   "source": [
    "***Image to Pencil Sketch Converter(Beginner's Task)***"
   ]
  },
  {
   "cell_type": "markdown",
   "metadata": {},
   "source": [
    "### Importing important libraries"
   ]
  },
  {
   "cell_type": "code",
   "execution_count": 1,
   "metadata": {},
   "outputs": [],
   "source": [
    "import cv2\n",
    "import easygui\n",
    "import os\n",
    "import numpy \n",
    "import imageio\n",
    "import sys\n",
    "import matplotlib.pyplot as plt\n",
    "\n",
    "import tkinter as tk\n",
    "from tkinter import filedialog\n",
    "from tkinter import *\n",
    "from PIL import ImageTk, Image\n",
    "from tkinter import messagebox\n"
   ]
  },
  {
   "cell_type": "markdown",
   "metadata": {},
   "source": [
    "### Making the GUI using tkinter"
   ]
  },
  {
   "cell_type": "code",
   "execution_count": 2,
   "metadata": {},
   "outputs": [],
   "source": [
    "top=tk.Tk()\n",
    "top.geometry('400x400')\n",
    "top.title('Image into Sketch !')\n",
    "top.configure(background='white')\n",
    "label=Label(top,background='#CDCDCD', font=('calibri',20,'bold'))\n"
   ]
  },
  {
   "cell_type": "markdown",
   "metadata": {},
   "source": [
    "### Function to choose the image from the system"
   ]
  },
  {
   "cell_type": "code",
   "execution_count": 3,
   "metadata": {},
   "outputs": [],
   "source": [
    "def upload():\n",
    "    ImagePath = easygui.fileopenbox(msg = 'Choose a file')\n",
    "\n",
    "    imageToPencil(ImagePath)\n",
    "   \n"
   ]
  },
  {
   "cell_type": "code",
   "execution_count": 4,
   "metadata": {
    "scrolled": true
   },
   "outputs": [],
   "source": [
    "def imageToPencil(ImagePath):\n",
    "    # Reading the image using imshow\n",
    "    img  = cv2.imread(ImagePath)\n",
    "    cv2.imshow('original image', img)\n",
    "    \n",
    "    #Converting the image From BGR to GRAY\n",
    "    grey_img = cv2.cvtColor(img, cv2.COLOR_BGR2GRAY)\n",
    "\n",
    "    #Inverting the image i.e. making 0 to 1 and vice versa.\n",
    "    invert_img = cv2.bitwise_not(grey_img)\n",
    "    \n",
    "    #Smoothing/ Blur the image\n",
    "    blur_img=cv2.GaussianBlur(invert_img, (111,111),0)\n",
    "    \n",
    "    #Inverting the blur image\n",
    "    invblur_img=cv2.bitwise_not(blur_img)\n",
    "    \n",
    "    #Converting the image into pencil sketch \n",
    "    sketch_img=cv2.divide(grey_img,invblur_img, scale=256.0)\n",
    "    \n",
    "    #saving the image\n",
    "    cv2.imwrite('sketch.png', sketch_img)\n",
    "    save1=Button(top,text=\"Save sketch\",command=lambda: save(ImagePath, sketch_img),padx=30,pady=5)\n",
    "    save1.configure(background='#364156', foreground='white',font=('calibri',10,'bold'))\n",
    "    save1.pack(side=TOP,pady=50)\n",
    "    cv2.imshow('sketch image', sketch_img)\n",
    "    "
   ]
  },
  {
   "cell_type": "code",
   "execution_count": 5,
   "metadata": {},
   "outputs": [],
   "source": [
    "### Saving the image into its directory with the prefix \"pencilSketch_Image\" "
   ]
  },
  {
   "cell_type": "code",
   "execution_count": 6,
   "metadata": {},
   "outputs": [],
   "source": [
    "def save(ImagePath, sketch_img):\n",
    "    #saving an image using imwrite()\n",
    "    newName=\"pencilSketch_Image\"\n",
    "    path1 = os.path.dirname(ImagePath)\n",
    "    extension=os.path.splitext(ImagePath)[1]\n",
    "    path = os.path.join(path1, newName+extension)\n",
    "    cv2.imwrite(path, cv2.cvtColor(sketch_img, cv2.COLOR_RGB2BGR))\n",
    "    I = \"Image saved by name \" + newName +\" at \"+ path\n",
    "    tk.messagebox.showinfo(title=None, message=I)"
   ]
  },
  {
   "cell_type": "code",
   "execution_count": 7,
   "metadata": {},
   "outputs": [],
   "source": [
    "upload=Button(top,text=\"Image into Sketch\",command=upload,padx=10,pady=5)\n",
    "upload.configure(background='#364156', foreground='white',font=('calibri',10,'bold'))\n",
    "upload.pack(side=TOP,pady=50)"
   ]
  },
  {
   "cell_type": "code",
   "execution_count": 8,
   "metadata": {},
   "outputs": [
    {
     "name": "stdout",
     "output_type": "stream",
     "text": [
      "C:\\Users\\kshitiz\\download.jpg\n",
      "C:\\Users\\kshitiz\\download.jpg\n"
     ]
    }
   ],
   "source": [
    "top.mainloop()"
   ]
  },
  {
   "cell_type": "code",
   "execution_count": null,
   "metadata": {},
   "outputs": [],
   "source": []
  }
 ],
 "metadata": {
  "kernelspec": {
   "display_name": "Python 3",
   "language": "python",
   "name": "python3"
  },
  "language_info": {
   "codemirror_mode": {
    "name": "ipython",
    "version": 3
   },
   "file_extension": ".py",
   "mimetype": "text/x-python",
   "name": "python",
   "nbconvert_exporter": "python",
   "pygments_lexer": "ipython3",
   "version": "3.8.5"
  }
 },
 "nbformat": 4,
 "nbformat_minor": 2
}
